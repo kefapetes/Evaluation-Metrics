{
 "cells": [
  {
   "cell_type": "markdown",
   "metadata": {},
   "source": [
    "# Confusion Matrix"
   ]
  },
  {
   "cell_type": "markdown",
   "metadata": {},
   "source": [
    "CONFUSION MATRIX  ::\n",
    "\n",
    "As we noticed in the previous part, we care not only about how many datapoints we predict the correct class for, we care about how many of the positive datapoints we predict correctly for as well as how many of the negative datapoints we predict correctly.\n",
    "\n",
    "We can see all the important values in what is called the Confusion Matrix (or Error Matrix or Table of Confusion).\n",
    "\n",
    "The Confusion Matrix is a table showing four values:\n",
    "\n",
    "     • Datapoints we predicted positive that are actually positive\n",
    "     • Datapoints we predicted positive that are actually negative\n",
    "     • Datapoints we predicted negative that are actually positive\n",
    "     • Datapoints we predicted negative that are actually negative\n",
    "     \n",
    "The first and fourth are the datapoints we predicted correctly and the second and third are the datapoints we predicted incorrectly.\n",
    "\n",
    "The confusion matrix fully describes how a model performs on a dataset, though is difficult to use to compare models.\n",
    "\n",
    "\n",
    "\n",
    "TRUE POSITIVE, TRUE NEGATIVE, FALSE POSITIVE, FALSE NEGATIVE  ::\n",
    "\n",
    "We have names for each square of the confusion matrix:\n",
    "\n",
    "     A true positive (TP) is a datapoint we predicted positively that we were correct about.\n",
    "     A true negative (TN) is a datapoint we predicted negatively that we were correct about.\n",
    "     A false positive (FP) is a datapoint we predicted positively that we were incorrect about.\n",
    "     A false negative (FN) is a datapoint we predicted negatively that we were incorrect about."
   ]
  },
  {
   "cell_type": "markdown",
   "metadata": {},
   "source": [
    "# Precision and Recall"
   ]
  },
  {
   "cell_type": "markdown",
   "metadata": {},
   "source": [
    "Precision refers to the percentage of positive results which are relevant \n",
    "\n",
    "    Precision is the percent of the model’s positive predictions that are correct.\n",
    "    \n",
    "    precision  = positives predicted correctly / positive predictions\n",
    "               \n",
    "               = TP / (TP + FP)\n",
    "\n",
    "Recall to the percentage of positive cases correctly classified.\n",
    "\n",
    "     Recall = positives predicted correctly / positive cases \n",
    "            \n",
    "            = TP / (TP + FN)\n",
    "            \n",
    "We often will be in a situation of choosing between increasing the recall (while lowering the precision) or \n",
    "\n",
    "increasing the precision (and lowering the recall). It will depend on the situation which we’ll want to maximize.\n",
    "\n",
    "For example, let’s say we’re building a model to predict if a credit card charge is fraudulent. The positive cases for our model are fraudulent charges and the negative cases are legitimate charges.\n",
    "\n",
    "Let’s consider two scenarios:\n",
    "1. If we predict the charge is fraudulent, we’ll reject the charge.\n",
    "2. If we predict the charge is fraudulent, we’ll call the customer to confirm the charge.\n",
    "\n",
    "In case 1, it’s a huge inconvenience for the customer when the model predicts fraud incorrectly (a false positive).\n",
    "\n",
    "In case 2, a false positive is a minor inconvenience for the customer.\n",
    "               \n",
    "The higher the false positives, the lower the precision. Because of the high cost to false positives in the first case, it would be worth having a low recall in order to have a very high precision. In case 2, you would want more of a balance between precision and recall.\n",
    "\n",
    "There is often a trade-off between precision and recall. Increasing the model's precision means making the model less sensitive, to lower the false positive rate. But a less sensitive model could also miss more actual positives, leading to a lower recall. Increasing the model's recall means making the model more sensitive, to lower the false negative rate. But a more sensitive model could also incorrectly flag more false positives, leading to lower precision.\n",
    "\n",
    "CASE SCENARIO ::\n",
    "We’re building a model to predict spam email. The positive cases are spam and the negative cases are legitimate. If we’re going to delete email that we predict is spam, which is more important to maximize?\n",
    "\n",
    "      It is important to maximize the preciseness ( by increasing precision) in this case; Since the False Positives will \n",
    "      get DELETED ( emails that are not spam but our model predicts as spam) so an important email might get deleted, due\n",
    "      to a wrong prediction. Here FP are costing us a lot. So we'd better minimize them. (By increasing precision)\n",
    "      \n",
    "      It well known that spam emails are very less as compared to legitimate (important) emails. Precision=TP/(TP+FP)   \n",
    "      Recall=TP/(TP+FN) FP>FN (TP+FP)>(TP+FN) ∴ Precision<Recall It is important to maximize the preciseness ( by increasing \n",
    "      precision) Because .with.. FalsePositives(emails) legitimate(important) emails will also be \"\"\"deleted \"\"\", due to a\n",
    "      wrong prediction. FP is costing more than FN WE HAVE TO MAXIMIZE--Precision=TP/(TP+FP)\n",
    "      \n",
    "      In general given any problem like this and before you pick up your choice between precision and Recall, firstly \n",
    "      determine which you care about minimizing or maximizing of( FP or FN) becaus they affect directly the precision and \n",
    "      Recall. Increase FP will lower precision, decrease it will increase precision. Increase FN will lower Recall, decrease \n",
    "      it will increase Recall. Precision=TP/(TP+FP) Recall=TP/(TP+FN)"
   ]
  },
  {
   "cell_type": "markdown",
   "metadata": {},
   "source": [
    "# F1 Score"
   ]
  },
  {
   "cell_type": "markdown",
   "metadata": {},
   "source": [
    "Accuracy was an appealing metric because it was a single number. Precision and recall are two numbers so it’s not always obvious how to choose between two models if one has a higher precision and the other has a higher recall. The F1 score is an average of precision and recall so that we have a single score for our model.\n",
    "\n",
    "Mathematical formula for the F1 score:\n",
    "\n",
    "      F1 = 2 * (Precision * Recall) / (Precision + Recall)\n",
    "      \n",
    "The F1 score is the harmonic mean of the precision and recall values.\n",
    "\n"
   ]
  },
  {
   "cell_type": "markdown",
   "metadata": {},
   "source": [
    "# Calculating Metrics in Scikit-learn\n"
   ]
  },
  {
   "cell_type": "markdown",
   "metadata": {},
   "source": [
    "Scikit-learn has a function built in for each of the metrics(accuracy, precision, recall and F1 score)\n",
    "\n",
    "Each function takes two 1-dimensional numpy arrays: the true values of the target & the predicted values of the target."
   ]
  },
  {
   "cell_type": "code",
   "execution_count": 10,
   "metadata": {},
   "outputs": [],
   "source": [
    "import numpy as np\n",
    "import pandas as pd\n",
    "import matplotlib.pyplot as plt"
   ]
  },
  {
   "cell_type": "code",
   "execution_count": 2,
   "metadata": {},
   "outputs": [
    {
     "data": {
      "text/html": [
       "<div>\n",
       "<style scoped>\n",
       "    .dataframe tbody tr th:only-of-type {\n",
       "        vertical-align: middle;\n",
       "    }\n",
       "\n",
       "    .dataframe tbody tr th {\n",
       "        vertical-align: top;\n",
       "    }\n",
       "\n",
       "    .dataframe thead th {\n",
       "        text-align: right;\n",
       "    }\n",
       "</style>\n",
       "<table border=\"1\" class=\"dataframe\">\n",
       "  <thead>\n",
       "    <tr style=\"text-align: right;\">\n",
       "      <th></th>\n",
       "      <th>Survived</th>\n",
       "      <th>Pclass</th>\n",
       "      <th>Sex</th>\n",
       "      <th>Age</th>\n",
       "      <th>Siblings/Spouses</th>\n",
       "      <th>Parents/Children</th>\n",
       "      <th>Fare</th>\n",
       "    </tr>\n",
       "  </thead>\n",
       "  <tbody>\n",
       "    <tr>\n",
       "      <th>0</th>\n",
       "      <td>0</td>\n",
       "      <td>3</td>\n",
       "      <td>male</td>\n",
       "      <td>22.0</td>\n",
       "      <td>1</td>\n",
       "      <td>0</td>\n",
       "      <td>7.2500</td>\n",
       "    </tr>\n",
       "    <tr>\n",
       "      <th>1</th>\n",
       "      <td>1</td>\n",
       "      <td>1</td>\n",
       "      <td>female</td>\n",
       "      <td>38.0</td>\n",
       "      <td>1</td>\n",
       "      <td>0</td>\n",
       "      <td>71.2833</td>\n",
       "    </tr>\n",
       "    <tr>\n",
       "      <th>2</th>\n",
       "      <td>1</td>\n",
       "      <td>3</td>\n",
       "      <td>female</td>\n",
       "      <td>26.0</td>\n",
       "      <td>0</td>\n",
       "      <td>0</td>\n",
       "      <td>7.9250</td>\n",
       "    </tr>\n",
       "    <tr>\n",
       "      <th>3</th>\n",
       "      <td>1</td>\n",
       "      <td>1</td>\n",
       "      <td>female</td>\n",
       "      <td>35.0</td>\n",
       "      <td>1</td>\n",
       "      <td>0</td>\n",
       "      <td>53.1000</td>\n",
       "    </tr>\n",
       "    <tr>\n",
       "      <th>4</th>\n",
       "      <td>0</td>\n",
       "      <td>3</td>\n",
       "      <td>male</td>\n",
       "      <td>35.0</td>\n",
       "      <td>0</td>\n",
       "      <td>0</td>\n",
       "      <td>8.0500</td>\n",
       "    </tr>\n",
       "  </tbody>\n",
       "</table>\n",
       "</div>"
      ],
      "text/plain": [
       "   Survived  Pclass     Sex   Age  Siblings/Spouses  Parents/Children     Fare\n",
       "0         0       3    male  22.0                 1                 0   7.2500\n",
       "1         1       1  female  38.0                 1                 0  71.2833\n",
       "2         1       3  female  26.0                 0                 0   7.9250\n",
       "3         1       1  female  35.0                 1                 0  53.1000\n",
       "4         0       3    male  35.0                 0                 0   8.0500"
      ]
     },
     "execution_count": 2,
     "metadata": {},
     "output_type": "execute_result"
    }
   ],
   "source": [
    "#Reading the titanic dataset\n",
    "\n",
    "titanic = pd.read_csv('titanic.csv')\n",
    "titanic.head()"
   ]
  },
  {
   "cell_type": "code",
   "execution_count": 3,
   "metadata": {},
   "outputs": [
    {
     "data": {
      "text/html": [
       "<div>\n",
       "<style scoped>\n",
       "    .dataframe tbody tr th:only-of-type {\n",
       "        vertical-align: middle;\n",
       "    }\n",
       "\n",
       "    .dataframe tbody tr th {\n",
       "        vertical-align: top;\n",
       "    }\n",
       "\n",
       "    .dataframe thead th {\n",
       "        text-align: right;\n",
       "    }\n",
       "</style>\n",
       "<table border=\"1\" class=\"dataframe\">\n",
       "  <thead>\n",
       "    <tr style=\"text-align: right;\">\n",
       "      <th></th>\n",
       "      <th>Survived</th>\n",
       "      <th>Pclass</th>\n",
       "      <th>Sex</th>\n",
       "      <th>Age</th>\n",
       "      <th>Siblings/Spouses</th>\n",
       "      <th>Parents/Children</th>\n",
       "      <th>Fare</th>\n",
       "      <th>Male</th>\n",
       "    </tr>\n",
       "  </thead>\n",
       "  <tbody>\n",
       "    <tr>\n",
       "      <th>0</th>\n",
       "      <td>0</td>\n",
       "      <td>3</td>\n",
       "      <td>male</td>\n",
       "      <td>22.0</td>\n",
       "      <td>1</td>\n",
       "      <td>0</td>\n",
       "      <td>7.2500</td>\n",
       "      <td>True</td>\n",
       "    </tr>\n",
       "    <tr>\n",
       "      <th>1</th>\n",
       "      <td>1</td>\n",
       "      <td>1</td>\n",
       "      <td>female</td>\n",
       "      <td>38.0</td>\n",
       "      <td>1</td>\n",
       "      <td>0</td>\n",
       "      <td>71.2833</td>\n",
       "      <td>False</td>\n",
       "    </tr>\n",
       "    <tr>\n",
       "      <th>2</th>\n",
       "      <td>1</td>\n",
       "      <td>3</td>\n",
       "      <td>female</td>\n",
       "      <td>26.0</td>\n",
       "      <td>0</td>\n",
       "      <td>0</td>\n",
       "      <td>7.9250</td>\n",
       "      <td>False</td>\n",
       "    </tr>\n",
       "    <tr>\n",
       "      <th>3</th>\n",
       "      <td>1</td>\n",
       "      <td>1</td>\n",
       "      <td>female</td>\n",
       "      <td>35.0</td>\n",
       "      <td>1</td>\n",
       "      <td>0</td>\n",
       "      <td>53.1000</td>\n",
       "      <td>False</td>\n",
       "    </tr>\n",
       "    <tr>\n",
       "      <th>4</th>\n",
       "      <td>0</td>\n",
       "      <td>3</td>\n",
       "      <td>male</td>\n",
       "      <td>35.0</td>\n",
       "      <td>0</td>\n",
       "      <td>0</td>\n",
       "      <td>8.0500</td>\n",
       "      <td>True</td>\n",
       "    </tr>\n",
       "  </tbody>\n",
       "</table>\n",
       "</div>"
      ],
      "text/plain": [
       "   Survived  Pclass     Sex   Age  Siblings/Spouses  Parents/Children  \\\n",
       "0         0       3    male  22.0                 1                 0   \n",
       "1         1       1  female  38.0                 1                 0   \n",
       "2         1       3  female  26.0                 0                 0   \n",
       "3         1       1  female  35.0                 1                 0   \n",
       "4         0       3    male  35.0                 0                 0   \n",
       "\n",
       "      Fare   Male  \n",
       "0   7.2500   True  \n",
       "1  71.2833  False  \n",
       "2   7.9250  False  \n",
       "3  53.1000  False  \n",
       "4   8.0500   True  "
      ]
     },
     "execution_count": 3,
     "metadata": {},
     "output_type": "execute_result"
    }
   ],
   "source": [
    "#Changing the Sex column to boolean values \n",
    "\n",
    "titanic['Male'] = titanic['Sex'] == 'male'\n",
    "titanic.head()"
   ]
  },
  {
   "cell_type": "code",
   "execution_count": 4,
   "metadata": {},
   "outputs": [],
   "source": [
    "#Fitting a logistic regression model to titanic  dataset\n",
    "\n",
    "from sklearn.linear_model import LogisticRegression\n",
    "model = LogisticRegression()\n",
    "\n",
    "X = titanic[['Pclass', 'Male', 'Age', 'Siblings/Spouses', 'Parents/Children', 'Fare' ]]\n",
    "Y = titanic['Survived']\n",
    "\n",
    "model.fit(X,Y)\n",
    "y_pred = model.predict(X)"
   ]
  },
  {
   "cell_type": "code",
   "execution_count": 5,
   "metadata": {},
   "outputs": [
    {
     "name": "stdout",
     "output_type": "stream",
     "text": [
      "accuracy: 0.8049605411499436\n",
      "precision: 0.7734627831715211\n",
      "recall: 0.6988304093567251\n",
      "f1 score: 0.7342549923195083\n"
     ]
    }
   ],
   "source": [
    "# Calculating the metrics\n",
    "\n",
    "from sklearn.metrics import accuracy_score, precision_score, recall_score, f1_score\n",
    "\n",
    "print(\"accuracy:\", accuracy_score(Y, y_pred))\n",
    "print(\"precision:\", precision_score(Y, y_pred))\n",
    "print(\"recall:\", recall_score(Y, y_pred))\n",
    "print(\"f1 score:\", f1_score(Y, y_pred))"
   ]
  },
  {
   "cell_type": "markdown",
   "metadata": {},
   "source": [
    "We see that the accuracy is 80% which means that 80% of the model’s predictions are correct. \n",
    "\n",
    "The precision is 78%, that is the percent of the model’s positive predictions that are correct. \n",
    "\n",
    "The recall is 68%, which is the percent of the positive cases that the model predicted correctly. \n",
    "\n",
    "The F1 score is 73%, which is an average of the precision and recall.\n",
    "\n",
    "With a single model, the metric values do not tell us a lot. For some problems a value of 60% is good, and for others a value of 90% is good, depending on the difficulty of the problem. We will use the metric values to compare different models to pick the best one"
   ]
  },
  {
   "cell_type": "markdown",
   "metadata": {},
   "source": [
    "Confusion Matrix in Sklearn\n",
    "\n",
    "Scikit-learn has a confusion matrix function that we can use to get the four values in the confusion matrix (true positives, false positives, false negatives, and true negatives). Assuming y is our true target values and y_pred is the predicted values,\n",
    "\n",
    "we can use the confusion_matrix function as follows:"
   ]
  },
  {
   "cell_type": "code",
   "execution_count": 6,
   "metadata": {
    "scrolled": true
   },
   "outputs": [
    {
     "name": "stdout",
     "output_type": "stream",
     "text": [
      "[[475  70]\n",
      " [103 239]]\n"
     ]
    }
   ],
   "source": [
    "from sklearn.metrics import confusion_matrix\n",
    "print(confusion_matrix(Y, y_pred))"
   ]
  },
  {
   "cell_type": "markdown",
   "metadata": {},
   "source": [
    "Scikit-learn reverses the confusion matrix to show the negative counts first! Here is how this confusion matrix should be labeled."
   ]
  },
  {
   "cell_type": "markdown",
   "metadata": {},
   "source": [
    "confusion Matrix in scikit-learn\n",
    "    \n",
    "                   PN    PP   \n",
    "actual negative............(TN) ... (FP)   ... [[475  70]\n",
    "\n",
    "actual positive.............(FN) ... (TP)  ...   [103 239]]\n",
    "\n",
    "\n",
    "\n",
    "\n",
    "Normally;\n",
    "            \n",
    "                     AP   AN\n",
    "predicted positive ..........(TP).. (FP)..[[239 70]]\n",
    "\n",
    "predicted negative .........(FN).. (TN)..[[103 475]]"
   ]
  },
  {
   "cell_type": "markdown",
   "metadata": {},
   "source": [
    "# How to Build an ROC Curve\n"
   ]
  },
  {
   "cell_type": "markdown",
   "metadata": {},
   "source": [
    "The ROC curve is a graph of the specificity vs the sensitivity. We build a Logistic Regression model and then calculate the specificity and sensitivity for every possible threshold. Every predicted probability is a threshold. If we have 5 datapoints with the following predicted probabilities: 0.3, 0.4, 0.6, 0.7, 0.8, we would use each of those 5 values as a threshold.\n",
    "\n",
    "Note that we actually plot the sensitivity vs (1-specificity). There is no strong reason for doing it this way besides that it’s the standard.\n",
    "\n",
    "Let’s start by looking at the code to build the ROC curve. Scikit-learn has a roc_curve function we can use. The function takes the true target values and the predicted probabilities from our model.\n",
    "\n",
    "We first use the predict_proba method on the model to get the probabilities. Then we call the roc_curve function. The roc_curve function returns an array of the false positive rates, an array of the true positive rates and the thresholds. The false positive rate is 1-specificity (x-axis) and the true positive rate is another term for the sensitivity (y-axis). The threshold values won’t be needed in the graph.\n",
    "\n",
    "Code for plotting the ROC curve in matplotlib and code for plotting a diagonal line, this can help us visually see how far our model is from a model that predicts randomly:"
   ]
  },
  {
   "cell_type": "code",
   "execution_count": 32,
   "metadata": {},
   "outputs": [
    {
     "data": {
      "image/png": "[encoded data removed]",
      "text/plain": [
       "<Figure size 432x288 with 1 Axes>"
      ]
     },
     "metadata": {
      "needs_background": "light"
     },
     "output_type": "display_data"
    }
   ],
   "source": [
    "from sklearn.model_selection import train_test_split\n",
    "from sklearn.metrics import roc_curve\n",
    "\n",
    "X_train, X_test, Y_train, Y_test = train_test_split(X, Y, test_size = 0.3, random_state = 1)\n",
    "model1.fit(X_train, Y_train)\n",
    "y_pred_proba1 = model1.predict_proba(X_test)\n",
    "fpr, tpr, thresholds = roc_curve(Y_test, y_pred_proba[:,1])\n",
    "\n",
    "plt.plot(fpr, tpr)\n",
    "plt.plot([0, 1], [0, 1], linestyle = '--')\n",
    "plt.xlim([0, 1])\n",
    "plt.ylim([0, 1])\n",
    "\n",
    "plt.xlabel('1 - specificty')\n",
    "plt.ylabel('sensitivity')\n",
    "\n",
    "plt.show()"
   ]
  },
  {
   "cell_type": "markdown",
   "metadata": {},
   "source": [
    "TP - Real positive predicted positive (correct) \n",
    "\n",
    "TN - Real negative predicted negative (correct) \n",
    "\n",
    "FP - Real negative predicted positive (incorrect) \n",
    "\n",
    "FN - Real positive predicted negative (incorrect) \n",
    "\n",
    "Specificity is the % of all real negatives that were  predicted correctly: TN/(TN+FP). Also called the True Negative Rate\n",
    "\n",
    "Corrolary: (1 - Specificity) = FP/(TN+FP). Also called the False Positive Rate (or False Alarm Rate)  \"fpr\"\n",
    "\n",
    "Sensitivity is the % of all real positives that were predicted correctly: TP/(TP+FN). Also called the True Positive Rate \"tpr\""
   ]
  },
  {
   "cell_type": "markdown",
   "metadata": {},
   "source": [
    "The ROC curve is showing the performance, not of a single model, but of many models. Each choice of threshold is a different model.\n",
    "\n",
    "Assuming we have points A, B, C highlighted at specific regions\n",
    "\n",
    "Each point A, B & C refers to a model with a different threshold.\n",
    "\n",
    "comparing to the graph:\n",
    "Model A has a sensitivity of 0.6 and a specificity of 0.9 (recall that the graph is showing 1-specificity).\n",
    "Model B has a sensitivity of 0.8 and a specificity of 0.7.\n",
    "Model C has a sensitivity of 0.9 and a specificity of 0.5.\n",
    "\n",
    "How to choose between these models will depend on the specifics of our situation.\n",
    "The closer the curve gets to the upper left corner, the better the performance. The line should never fall below the diagonal line as that would mean it performs worse than a random model."
   ]
  },
  {
   "cell_type": "markdown",
   "metadata": {},
   "source": [
    "# Picking a Model from the ROC Curve"
   ]
  },
  {
   "cell_type": "markdown",
   "metadata": {},
   "source": [
    "When we’re ready to finalize our model, we have to choose a single threshold that we’ll use to make our predictions. The ROC curve is a way of helping us choose the ideal threshold for our problem\n",
    "\n",
    "looking at our ROC curve again assuming the three highlighted points\n",
    "\n",
    "If we are in a situation where it’s more important that all of our positive predictions are correct than that we catch all the positive cases (meaning that we predict most of the negative cases correctly), we should choose the model with higher specificity (model A).\n",
    "\n",
    "If we are in a situation where it’s important that we catch as many of the positive cases as possible, we should choose the model with the higher sensitivity (model C).\n",
    "\n",
    "If we want a balance between sensitivity and specificity, we should choose model B."
   ]
  },
  {
   "cell_type": "markdown",
   "metadata": {},
   "source": [
    "# Area Under the Curve"
   ]
  },
  {
   "cell_type": "markdown",
   "metadata": {},
   "source": [
    "We’ll sometimes what to use the ROC curve to compare two different models. \n",
    "\n",
    "Area Under the Curve, also called the AUC. This is the area under the ROC curve. It’s a value between 0 and 1, the higher the better.\n",
    "\n",
    "ROC is a graph of all the different Logistic Regression models with different thresholds, the AUC does not measure the performance of a single model. It gives a general sense of how well the Logistic Regression model is performing. To get a single model, you still need to find the optimal threshold for your problem.\n",
    "\n",
    "Using scikit-learn we can calculate the area under the curve, through the roc_auc_score function.\n",
    "\n",
    "\n",
    "Here is a comparison of the ROC curves of two models:\n",
    "\n",
    "    We will use the roc_auc_score function to calculate the AUC score of a Logistic Regression model on the Titanic dataset.\n",
    "    We will build two Logistic Regression models, model with 6 features and a model with just Pclass and male features."
   ]
  },
  {
   "cell_type": "code",
   "execution_count": 35,
   "metadata": {},
   "outputs": [
    {
     "name": "stdout",
     "output_type": "stream",
     "text": [
      "model 1 AUC score: 0.8304526748971194\n"
     ]
    }
   ],
   "source": [
    "from sklearn.metrics import roc_auc_score\n",
    "\n",
    "print(\"model 1 AUC score:\", roc_auc_score(Y_test, y_pred_proba1[:, 1]))"
   ]
  },
  {
   "cell_type": "code",
   "execution_count": 38,
   "metadata": {},
   "outputs": [
    {
     "name": "stdout",
     "output_type": "stream",
     "text": [
      "model 2 AUC score: 0.8340094062316284\n"
     ]
    }
   ],
   "source": [
    "model2 = LogisticRegression()\n",
    "\n",
    "X1 = titanic[['Pclass', 'Male' ]]\n",
    "Y1 = titanic['Survived']\n",
    "\n",
    "X1_train, X1_test, Y1_train, Y1_test = train_test_split(X1, Y1, test_size = 0.3, random_state = 1)\n",
    "model2.fit(X1_train, Y1_train)\n",
    "y_pred_proba2 = model2.predict_proba(X1_test)\n",
    "\n",
    "print(\"model 2 AUC score:\", roc_auc_score(Y1_test, y_pred_proba2[:, 1]))"
   ]
  },
  {
   "cell_type": "markdown",
   "metadata": {},
   "source": [
    "metric tells us how well in general a Logistic Regression model performs on our data. As an ROC curve shows the performance of multiple models, the AUC is not measuring the performance of a single model.\n"
   ]
  },
  {
   "cell_type": "markdown",
   "metadata": {},
   "source": [
    "# k-fold Cross Validation\n"
   ]
  },
  {
   "cell_type": "markdown",
   "metadata": {},
   "source": [
    "CONCERNS WITH THE TRAINING AND  TEST SET: \n",
    "\n",
    "We are doing evaluation because we want to get an accurate measure of how well the model performs. If our dataset is small, our test set is going to be small. Thus it might not be a good random assortment of datapoints and by random chance end up with easy or difficult datapoints in our evaluation set.\n",
    "\n",
    "Since our goal is to get the best possible measure of our metrics (accuracy, precision, recall and F1 score), we can do a little better than just a single training and test set.\n",
    "\n",
    "Training Set is used to build the model while the Test Set is used to evaluate the model\n",
    "\n",
    "To see this empirically, we try running the prev code which does a train/test split. We’ll re-run it a few times and see the results.\n",
    "\n",
    "It is seen that each time we run it, we get different values for the metrics. The accuracy ranges from 0.79 to 0.84, the precision from 0.75 to 0.81 and the recall from 0.63 to 0.75. These are wide ranges that just depend on how lucky or unlucky we were in which datapoints ended up in the test set.\n",
    "\n",
    "Instead of doing a single train/test split, we’ll split our data into a training set and test set multiple times."
   ]
  },
  {
   "cell_type": "markdown",
   "metadata": {},
   "source": [
    "We can get different values for the evaluation metrics. We want to get a measure of how well our model does in general, not just a measure of how well it does on one specific test set.\n",
    "\n",
    "Instead of just taking a chunk of the data as the test set, let’s break our dataset into 5 chunks. Let’s assume we have 200 datapoints in our dataset.\n",
    "\n",
    "Each of these 5 chunks will serve as a test set. When Chunk 1 is the test set, we use the remaining 4 chunks as the training set. Thus we have 5 training and test sets\n",
    "\n",
    "Each of the 5 times we have a test set of 20% (40 datapoints) and a training set of 80% (160 datapoints)."
   ]
  },
  {
   "cell_type": "markdown",
   "metadata": {},
   "source": [
    "For each training set, we build a model and evaluate it using the associated test set. Thus we build 5 models and calculate 5 scores\n",
    "\n",
    "We report the accuracy as the mean of the 5 values:\n",
    "\n",
    "If we had just done a single training and test set and had randomly gotten the first one, we would have reported an accuracy of 0.83. If we had randomly gotten the last one, we would have reported an accuracy of 0.75. Averaging all these possible values helps eliminate the impact of which test set a datapoint lands in.\n",
    "\n",
    "You will only see values this different when you have a small dataset. With large datasets we often just do a training and test set for simplicity.\n",
    "\n",
    "This process for creating multiple training and test sets is called k-fold cross validation. The k is the number of chunks we split our dataset into. The standard number is 5\n",
    "\n",
    "Our goal in cross validation is to get accurate measures for our metrics (accuracy, precision, recall). We are building extra models in order to feel confident in the numbers we calculate and report."
   ]
  },
  {
   "cell_type": "markdown",
   "metadata": {},
   "source": [
    "# Final Model Choice in k-fold Cross Validation"
   ]
  },
  {
   "cell_type": "markdown",
   "metadata": {},
   "source": [
    "\n",
    "Now we have built 5 models instead of just one. How do we decide on a single model to use?\n",
    "\n",
    "These 5 models were built just for evaluation purposes, so that we can report the metric values. We don’t actually need these models and want to build the best possible model. The best possible model is going to be a model that uses all of the data. So we keep track of our calculated values for our evaluation metrics and then build a model using all of the data.\n",
    "\n",
    "This may seem incredibly wasteful, but computers have a lot of computation power, so it’s worth using a little extra to make sure we’re reporting the right values for our evaluation metrics. We’ll be using these values to make decisions, so calculating them correctly is very important.\n"
   ]
  },
  {
   "cell_type": "markdown",
   "metadata": {},
   "source": [
    "# k-fold Cross Validation in Sklearn\n"
   ]
  },
  {
   "cell_type": "markdown",
   "metadata": {},
   "source": [
    "Scikit-learn has already implemented the code to break the dataset into k chunks and create k training and test sets.\n",
    "\n",
    "We start by instantiating a KFold class object. It takes two parameters: n_splits (this is k, the number of chunks to create) and shuffle (whether or not to randomize the order of the data). It’s generally good practice to shuffle the data since you often get a dataset that’s in a sorted order.\n",
    "\n",
    "The KFold class has a split method that creates the 3 splits for our data.\n",
    "\n",
    "Let’s look at the output of the split method. The split method returns a generator, so we use the list function to turn it into a list.\n",
    "\n",
    "     kf = KFold(n_splits=3, shuffle=True)\n",
    "     \n",
    "     list(kf.split(X))"
   ]
  }
 ],
 "metadata": {
  "kernelspec": {
   "display_name": "Python 3",
   "language": "python",
   "name": "python3"
  },
  "language_info": {
   "codemirror_mode": {
    "name": "ipython",
    "version": 3
   },
   "file_extension": ".py",
   "mimetype": "text/x-python",
   "name": "python",
   "nbconvert_exporter": "python",
   "pygments_lexer": "ipython3",
   "version": "3.8.5"
  }
 },
 "nbformat": 4,
 "nbformat_minor": 4
}
